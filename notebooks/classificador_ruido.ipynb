{
 "cells": [
  {
   "cell_type": "code",
   "execution_count": 10,
   "id": "a537bb82-5ebb-4e33-8b80-71911fb59281",
   "metadata": {},
   "outputs": [],
   "source": [
    "from keras.preprocessing.image import img_to_array, load_img\n",
    "import os\n",
    "import numpy as np\n",
    "import pandas as pd\n",
    "from sklearn.model_selection import train_test_split\n",
    "from keras.layers import MaxPooling2D, Conv2D, Flatten, Dense, Dropout\n",
    "from keras.models import Sequential\n",
    "from keras.callbacks import ModelCheckpoint\n",
    "from PIL import Image, ImageOps\n",
    "from keras.preprocessing.image import img_to_array\n",
    "from keras import backend as K\n",
    "import warnings"
   ]
  },
  {
   "cell_type": "code",
   "execution_count": 11,
   "id": "261a6aad-f0bd-4feb-9c66-bfff860d85f7",
   "metadata": {},
   "outputs": [],
   "source": [
    "warnings.filterwarnings('ignore')"
   ]
  },
  {
   "cell_type": "code",
   "execution_count": 12,
   "id": "768d5115-8ed6-4b4a-8d9c-e7bc0d7e305b",
   "metadata": {},
   "outputs": [],
   "source": [
    "def resize_with_padding(image, target_size=(128, 128)):\n",
    "    image = ImageOps.contain(image, target_size, method=Image.Resampling.LANCZOS)\n",
    "    padded_img = ImageOps.pad(image, target_size, method=Image.Resampling.LANCZOS, color=(255))\n",
    "    return padded_img\n",
    "\n",
    "def load_images_with_padding(folder, target_size=(128, 128)):\n",
    "    images = []\n",
    "    for filename in os.listdir(folder):\n",
    "        if 'png' in filename or 'PNG' in filename or 'jpg' in filename or 'jpeg' in filename:\n",
    "            image = Image.open(os.path.join(folder, filename)).convert('L')\n",
    "            padded_img = resize_with_padding(image, target_size)\n",
    "            images.append(img_to_array(padded_img) / 255.0)\n",
    "    return np.array(images)"
   ]
  },
  {
   "cell_type": "code",
   "execution_count": 13,
   "id": "81e57df8-2fbb-4887-b930-c9a7bde7d3f6",
   "metadata": {},
   "outputs": [],
   "source": [
    "reference_images = load_images_with_padding(r'../dados/clean')\n",
    "noisy_images = load_images_with_padding(r'../dados/noisy')"
   ]
  },
  {
   "cell_type": "code",
   "execution_count": 14,
   "id": "f2fd1a7a-d0b6-49b3-ae52-39fd7404a26a",
   "metadata": {},
   "outputs": [],
   "source": [
    "labels_noisy = np.ones(len(noisy_images))\n",
    "labels_clean = np.zeros(len(reference_images))\n",
    "\n",
    "x = np.concatenate([noisy_images, reference_images], axis=0)\n",
    "y = np.concatenate([labels_noisy, labels_clean], axis=0)"
   ]
  },
  {
   "cell_type": "code",
   "execution_count": 15,
   "id": "f4ae4a25-c579-4308-b58e-7df366d3a6cc",
   "metadata": {},
   "outputs": [],
   "source": [
    "indices = np.random.permutation(len(x))\n",
    "x, y = x[indices], y[indices]\n",
    "\n",
    "x_train, x_val, y_train, y_val = train_test_split(x, y, test_size=0.2, random_state=42, stratify=y)"
   ]
  },
  {
   "cell_type": "code",
   "execution_count": 7,
   "id": "e6ae44a0-2a7f-423d-abba-466820b11c4c",
   "metadata": {},
   "outputs": [],
   "source": [
    "model = Sequential([\n",
    "    Conv2D(32, (3, 3), activation='relu', input_shape=(128, 128, 1)),\n",
    "    MaxPooling2D(pool_size=(2, 2)),\n",
    "    Conv2D(64, (3, 3), activation='relu'),\n",
    "    MaxPooling2D(pool_size=(2, 2)),\n",
    "    Conv2D(128, (3, 3), activation='relu'),\n",
    "    MaxPooling2D(pool_size=(2, 2)),\n",
    "    Flatten(),\n",
    "    Dense(128, activation='relu'),\n",
    "    Dropout(0.5),\n",
    "    Dense(1, activation='sigmoid')\n",
    "])\n",
    "\n",
    "checkpoint = ModelCheckpoint(\n",
    "    filepath='best_classificador.h5',\n",
    "    monitor='val_accuracy',\n",
    "    save_best_only=True,\n",
    "    mode='max',\n",
    "    verbose=1\n",
    ")\n",
    "\n",
    "model.compile(\n",
    "    optimizer='adam',\n",
    "    loss='binary_crossentropy',\n",
    "    metrics=['accuracy', 'precision', 'recall']\n",
    ")"
   ]
  },
  {
   "cell_type": "code",
   "execution_count": 8,
   "id": "70e9eb10-a5a6-4ae2-a3c8-bca015e7ddba",
   "metadata": {
    "scrolled": true
   },
   "outputs": [
    {
     "name": "stdout",
     "output_type": "stream",
     "text": [
      "Epoch 1/30\n",
      "\u001b[1m66/66\u001b[0m \u001b[32m━━━━━━━━━━━━━━━━━━━━\u001b[0m\u001b[37m\u001b[0m \u001b[1m0s\u001b[0m 208ms/step - accuracy: 0.7068 - loss: 0.5447 - precision: 0.7060 - recall: 0.7258\n",
      "Epoch 1: val_accuracy improved from -inf to 0.93750, saving model to best_classificador.h5\n"
     ]
    },
    {
     "name": "stderr",
     "output_type": "stream",
     "text": [
      "WARNING:absl:You are saving your model as an HDF5 file via `model.save()` or `keras.saving.save_model(model)`. This file format is considered legacy. We recommend using instead the native Keras format, e.g. `model.save('my_model.keras')` or `keras.saving.save_model(model, 'my_model.keras')`. \n"
     ]
    },
    {
     "name": "stdout",
     "output_type": "stream",
     "text": [
      "\u001b[1m66/66\u001b[0m \u001b[32m━━━━━━━━━━━━━━━━━━━━\u001b[0m\u001b[37m\u001b[0m \u001b[1m17s\u001b[0m 226ms/step - accuracy: 0.7088 - loss: 0.5418 - precision: 0.7079 - recall: 0.7275 - val_accuracy: 0.9375 - val_loss: 0.1624 - val_precision: 0.9833 - val_recall: 0.8902\n",
      "Epoch 2/30\n",
      "\u001b[1m66/66\u001b[0m \u001b[32m━━━━━━━━━━━━━━━━━━━━\u001b[0m\u001b[37m\u001b[0m \u001b[1m0s\u001b[0m 191ms/step - accuracy: 0.9401 - loss: 0.1514 - precision: 0.9531 - recall: 0.9263\n",
      "Epoch 2: val_accuracy improved from 0.93750 to 0.96212, saving model to best_classificador.h5\n"
     ]
    },
    {
     "name": "stderr",
     "output_type": "stream",
     "text": [
      "WARNING:absl:You are saving your model as an HDF5 file via `model.save()` or `keras.saving.save_model(model)`. This file format is considered legacy. We recommend using instead the native Keras format, e.g. `model.save('my_model.keras')` or `keras.saving.save_model(model, 'my_model.keras')`. \n"
     ]
    },
    {
     "name": "stdout",
     "output_type": "stream",
     "text": [
      "\u001b[1m66/66\u001b[0m \u001b[32m━━━━━━━━━━━━━━━━━━━━\u001b[0m\u001b[37m\u001b[0m \u001b[1m13s\u001b[0m 204ms/step - accuracy: 0.9402 - loss: 0.1514 - precision: 0.9532 - recall: 0.9265 - val_accuracy: 0.9621 - val_loss: 0.1180 - val_precision: 0.9959 - val_recall: 0.9280\n",
      "Epoch 3/30\n",
      "\u001b[1m66/66\u001b[0m \u001b[32m━━━━━━━━━━━━━━━━━━━━\u001b[0m\u001b[37m\u001b[0m \u001b[1m0s\u001b[0m 174ms/step - accuracy: 0.9676 - loss: 0.0812 - precision: 0.9747 - recall: 0.9619\n",
      "Epoch 3: val_accuracy improved from 0.96212 to 0.98485, saving model to best_classificador.h5\n"
     ]
    },
    {
     "name": "stderr",
     "output_type": "stream",
     "text": [
      "WARNING:absl:You are saving your model as an HDF5 file via `model.save()` or `keras.saving.save_model(model)`. This file format is considered legacy. We recommend using instead the native Keras format, e.g. `model.save('my_model.keras')` or `keras.saving.save_model(model, 'my_model.keras')`. \n"
     ]
    },
    {
     "name": "stdout",
     "output_type": "stream",
     "text": [
      "\u001b[1m66/66\u001b[0m \u001b[32m━━━━━━━━━━━━━━━━━━━━\u001b[0m\u001b[37m\u001b[0m \u001b[1m12s\u001b[0m 186ms/step - accuracy: 0.9677 - loss: 0.0810 - precision: 0.9748 - recall: 0.9619 - val_accuracy: 0.9848 - val_loss: 0.0546 - val_precision: 0.9961 - val_recall: 0.9735\n",
      "Epoch 4/30\n",
      "\u001b[1m66/66\u001b[0m \u001b[32m━━━━━━━━━━━━━━━━━━━━\u001b[0m\u001b[37m\u001b[0m \u001b[1m0s\u001b[0m 196ms/step - accuracy: 0.9851 - loss: 0.0416 - precision: 0.9859 - recall: 0.9839\n",
      "Epoch 4: val_accuracy did not improve from 0.98485\n",
      "\u001b[1m66/66\u001b[0m \u001b[32m━━━━━━━━━━━━━━━━━━━━\u001b[0m\u001b[37m\u001b[0m \u001b[1m14s\u001b[0m 213ms/step - accuracy: 0.9851 - loss: 0.0416 - precision: 0.9859 - recall: 0.9839 - val_accuracy: 0.9697 - val_loss: 0.0814 - val_precision: 0.9960 - val_recall: 0.9432\n",
      "Epoch 5/30\n",
      "\u001b[1m66/66\u001b[0m \u001b[32m━━━━━━━━━━━━━━━━━━━━\u001b[0m\u001b[37m\u001b[0m \u001b[1m0s\u001b[0m 192ms/step - accuracy: 0.9703 - loss: 0.0824 - precision: 0.9770 - recall: 0.9621\n",
      "Epoch 5: val_accuracy did not improve from 0.98485\n",
      "\u001b[1m66/66\u001b[0m \u001b[32m━━━━━━━━━━━━━━━━━━━━\u001b[0m\u001b[37m\u001b[0m \u001b[1m13s\u001b[0m 203ms/step - accuracy: 0.9704 - loss: 0.0823 - precision: 0.9771 - recall: 0.9622 - val_accuracy: 0.9830 - val_loss: 0.0650 - val_precision: 0.9961 - val_recall: 0.9697\n",
      "Epoch 6/30\n",
      "\u001b[1m66/66\u001b[0m \u001b[32m━━━━━━━━━━━━━━━━━━━━\u001b[0m\u001b[37m\u001b[0m \u001b[1m0s\u001b[0m 192ms/step - accuracy: 0.9871 - loss: 0.0382 - precision: 0.9909 - recall: 0.9837\n",
      "Epoch 6: val_accuracy improved from 0.98485 to 0.99053, saving model to best_classificador.h5\n"
     ]
    },
    {
     "name": "stderr",
     "output_type": "stream",
     "text": [
      "WARNING:absl:You are saving your model as an HDF5 file via `model.save()` or `keras.saving.save_model(model)`. This file format is considered legacy. We recommend using instead the native Keras format, e.g. `model.save('my_model.keras')` or `keras.saving.save_model(model, 'my_model.keras')`. \n"
     ]
    },
    {
     "name": "stdout",
     "output_type": "stream",
     "text": [
      "\u001b[1m66/66\u001b[0m \u001b[32m━━━━━━━━━━━━━━━━━━━━\u001b[0m\u001b[37m\u001b[0m \u001b[1m13s\u001b[0m 204ms/step - accuracy: 0.9871 - loss: 0.0383 - precision: 0.9909 - recall: 0.9836 - val_accuracy: 0.9905 - val_loss: 0.0328 - val_precision: 0.9962 - val_recall: 0.9848\n",
      "Epoch 7/30\n",
      "\u001b[1m66/66\u001b[0m \u001b[32m━━━━━━━━━━━━━━━━━━━━\u001b[0m\u001b[37m\u001b[0m \u001b[1m0s\u001b[0m 180ms/step - accuracy: 0.9934 - loss: 0.0204 - precision: 0.9925 - recall: 0.9947\n",
      "Epoch 7: val_accuracy improved from 0.99053 to 0.99242, saving model to best_classificador.h5\n"
     ]
    },
    {
     "name": "stderr",
     "output_type": "stream",
     "text": [
      "WARNING:absl:You are saving your model as an HDF5 file via `model.save()` or `keras.saving.save_model(model)`. This file format is considered legacy. We recommend using instead the native Keras format, e.g. `model.save('my_model.keras')` or `keras.saving.save_model(model, 'my_model.keras')`. \n"
     ]
    },
    {
     "name": "stdout",
     "output_type": "stream",
     "text": [
      "\u001b[1m66/66\u001b[0m \u001b[32m━━━━━━━━━━━━━━━━━━━━\u001b[0m\u001b[37m\u001b[0m \u001b[1m13s\u001b[0m 194ms/step - accuracy: 0.9934 - loss: 0.0204 - precision: 0.9925 - recall: 0.9947 - val_accuracy: 0.9924 - val_loss: 0.0286 - val_precision: 0.9962 - val_recall: 0.9886\n",
      "Epoch 8/30\n",
      "\u001b[1m66/66\u001b[0m \u001b[32m━━━━━━━━━━━━━━━━━━━━\u001b[0m\u001b[37m\u001b[0m \u001b[1m0s\u001b[0m 186ms/step - accuracy: 0.9948 - loss: 0.0203 - precision: 0.9954 - recall: 0.9946\n",
      "Epoch 8: val_accuracy did not improve from 0.99242\n",
      "\u001b[1m66/66\u001b[0m \u001b[32m━━━━━━━━━━━━━━━━━━━━\u001b[0m\u001b[37m\u001b[0m \u001b[1m13s\u001b[0m 198ms/step - accuracy: 0.9949 - loss: 0.0203 - precision: 0.9954 - recall: 0.9946 - val_accuracy: 0.9924 - val_loss: 0.0317 - val_precision: 0.9962 - val_recall: 0.9886\n",
      "Epoch 9/30\n",
      "\u001b[1m66/66\u001b[0m \u001b[32m━━━━━━━━━━━━━━━━━━━━\u001b[0m\u001b[37m\u001b[0m \u001b[1m0s\u001b[0m 188ms/step - accuracy: 0.9994 - loss: 0.0068 - precision: 1.0000 - recall: 0.9988\n",
      "Epoch 9: val_accuracy did not improve from 0.99242\n",
      "\u001b[1m66/66\u001b[0m \u001b[32m━━━━━━━━━━━━━━━━━━━━\u001b[0m\u001b[37m\u001b[0m \u001b[1m13s\u001b[0m 199ms/step - accuracy: 0.9994 - loss: 0.0068 - precision: 1.0000 - recall: 0.9988 - val_accuracy: 0.9924 - val_loss: 0.0357 - val_precision: 0.9962 - val_recall: 0.9886\n",
      "Epoch 10/30\n",
      "\u001b[1m66/66\u001b[0m \u001b[32m━━━━━━━━━━━━━━━━━━━━\u001b[0m\u001b[37m\u001b[0m \u001b[1m0s\u001b[0m 190ms/step - accuracy: 0.9986 - loss: 0.0083 - precision: 1.0000 - recall: 0.9972\n",
      "Epoch 10: val_accuracy improved from 0.99242 to 0.99432, saving model to best_classificador.h5\n"
     ]
    },
    {
     "name": "stderr",
     "output_type": "stream",
     "text": [
      "WARNING:absl:You are saving your model as an HDF5 file via `model.save()` or `keras.saving.save_model(model)`. This file format is considered legacy. We recommend using instead the native Keras format, e.g. `model.save('my_model.keras')` or `keras.saving.save_model(model, 'my_model.keras')`. \n"
     ]
    },
    {
     "name": "stdout",
     "output_type": "stream",
     "text": [
      "\u001b[1m66/66\u001b[0m \u001b[32m━━━━━━━━━━━━━━━━━━━━\u001b[0m\u001b[37m\u001b[0m \u001b[1m13s\u001b[0m 201ms/step - accuracy: 0.9986 - loss: 0.0083 - precision: 1.0000 - recall: 0.9971 - val_accuracy: 0.9943 - val_loss: 0.0290 - val_precision: 0.9962 - val_recall: 0.9924\n",
      "Epoch 11/30\n",
      "\u001b[1m66/66\u001b[0m \u001b[32m━━━━━━━━━━━━━━━━━━━━\u001b[0m\u001b[37m\u001b[0m \u001b[1m0s\u001b[0m 178ms/step - accuracy: 0.9976 - loss: 0.0112 - precision: 0.9977 - recall: 0.9975\n",
      "Epoch 11: val_accuracy did not improve from 0.99432\n",
      "\u001b[1m66/66\u001b[0m \u001b[32m━━━━━━━━━━━━━━━━━━━━\u001b[0m\u001b[37m\u001b[0m \u001b[1m12s\u001b[0m 189ms/step - accuracy: 0.9975 - loss: 0.0113 - precision: 0.9977 - recall: 0.9974 - val_accuracy: 0.9943 - val_loss: 0.0274 - val_precision: 0.9925 - val_recall: 0.9962\n",
      "Epoch 12/30\n",
      "\u001b[1m66/66\u001b[0m \u001b[32m━━━━━━━━━━━━━━━━━━━━\u001b[0m\u001b[37m\u001b[0m \u001b[1m0s\u001b[0m 166ms/step - accuracy: 0.9968 - loss: 0.0110 - precision: 0.9972 - recall: 0.9963\n",
      "Epoch 12: val_accuracy did not improve from 0.99432\n",
      "\u001b[1m66/66\u001b[0m \u001b[32m━━━━━━━━━━━━━━━━━━━━\u001b[0m\u001b[37m\u001b[0m \u001b[1m12s\u001b[0m 177ms/step - accuracy: 0.9968 - loss: 0.0110 - precision: 0.9972 - recall: 0.9963 - val_accuracy: 0.9924 - val_loss: 0.0291 - val_precision: 0.9887 - val_recall: 0.9962\n",
      "Epoch 13/30\n",
      "\u001b[1m66/66\u001b[0m \u001b[32m━━━━━━━━━━━━━━━━━━━━\u001b[0m\u001b[37m\u001b[0m \u001b[1m0s\u001b[0m 163ms/step - accuracy: 0.9990 - loss: 0.0051 - precision: 0.9985 - recall: 0.9995\n",
      "Epoch 13: val_accuracy did not improve from 0.99432\n",
      "\u001b[1m66/66\u001b[0m \u001b[32m━━━━━━━━━━━━━━━━━━━━\u001b[0m\u001b[37m\u001b[0m \u001b[1m11s\u001b[0m 173ms/step - accuracy: 0.9990 - loss: 0.0051 - precision: 0.9985 - recall: 0.9995 - val_accuracy: 0.9924 - val_loss: 0.0342 - val_precision: 0.9962 - val_recall: 0.9886\n",
      "Epoch 14/30\n",
      "\u001b[1m66/66\u001b[0m \u001b[32m━━━━━━━━━━━━━━━━━━━━\u001b[0m\u001b[37m\u001b[0m \u001b[1m0s\u001b[0m 164ms/step - accuracy: 0.9987 - loss: 0.0043 - precision: 0.9998 - recall: 0.9975\n",
      "Epoch 14: val_accuracy improved from 0.99432 to 0.99621, saving model to best_classificador.h5\n"
     ]
    },
    {
     "name": "stderr",
     "output_type": "stream",
     "text": [
      "WARNING:absl:You are saving your model as an HDF5 file via `model.save()` or `keras.saving.save_model(model)`. This file format is considered legacy. We recommend using instead the native Keras format, e.g. `model.save('my_model.keras')` or `keras.saving.save_model(model, 'my_model.keras')`. \n"
     ]
    },
    {
     "name": "stdout",
     "output_type": "stream",
     "text": [
      "\u001b[1m66/66\u001b[0m \u001b[32m━━━━━━━━━━━━━━━━━━━━\u001b[0m\u001b[37m\u001b[0m \u001b[1m12s\u001b[0m 176ms/step - accuracy: 0.9986 - loss: 0.0043 - precision: 0.9998 - recall: 0.9975 - val_accuracy: 0.9962 - val_loss: 0.0285 - val_precision: 0.9962 - val_recall: 0.9962\n",
      "Epoch 15/30\n",
      "\u001b[1m66/66\u001b[0m \u001b[32m━━━━━━━━━━━━━━━━━━━━\u001b[0m\u001b[37m\u001b[0m \u001b[1m0s\u001b[0m 162ms/step - accuracy: 0.9975 - loss: 0.0098 - precision: 0.9988 - recall: 0.9961\n",
      "Epoch 15: val_accuracy did not improve from 0.99621\n",
      "\u001b[1m66/66\u001b[0m \u001b[32m━━━━━━━━━━━━━━━━━━━━\u001b[0m\u001b[37m\u001b[0m \u001b[1m11s\u001b[0m 173ms/step - accuracy: 0.9974 - loss: 0.0098 - precision: 0.9988 - recall: 0.9961 - val_accuracy: 0.9905 - val_loss: 0.0267 - val_precision: 0.9850 - val_recall: 0.9962\n",
      "Epoch 16/30\n",
      "\u001b[1m66/66\u001b[0m \u001b[32m━━━━━━━━━━━━━━━━━━━━\u001b[0m\u001b[37m\u001b[0m \u001b[1m0s\u001b[0m 162ms/step - accuracy: 0.9995 - loss: 0.0033 - precision: 0.9996 - recall: 0.9993\n",
      "Epoch 16: val_accuracy did not improve from 0.99621\n",
      "\u001b[1m66/66\u001b[0m \u001b[32m━━━━━━━━━━━━━━━━━━━━\u001b[0m\u001b[37m\u001b[0m \u001b[1m11s\u001b[0m 173ms/step - accuracy: 0.9994 - loss: 0.0033 - precision: 0.9996 - recall: 0.9993 - val_accuracy: 0.9924 - val_loss: 0.0270 - val_precision: 0.9924 - val_recall: 0.9924\n",
      "Epoch 17/30\n",
      "\u001b[1m66/66\u001b[0m \u001b[32m━━━━━━━━━━━━━━━━━━━━\u001b[0m\u001b[37m\u001b[0m \u001b[1m0s\u001b[0m 172ms/step - accuracy: 1.0000 - loss: 0.0021 - precision: 1.0000 - recall: 1.0000\n",
      "Epoch 17: val_accuracy did not improve from 0.99621\n",
      "\u001b[1m66/66\u001b[0m \u001b[32m━━━━━━━━━━━━━━━━━━━━\u001b[0m\u001b[37m\u001b[0m \u001b[1m12s\u001b[0m 183ms/step - accuracy: 1.0000 - loss: 0.0021 - precision: 1.0000 - recall: 1.0000 - val_accuracy: 0.9924 - val_loss: 0.0260 - val_precision: 0.9962 - val_recall: 0.9886\n",
      "Epoch 18/30\n",
      "\u001b[1m66/66\u001b[0m \u001b[32m━━━━━━━━━━━━━━━━━━━━\u001b[0m\u001b[37m\u001b[0m \u001b[1m0s\u001b[0m 169ms/step - accuracy: 0.9995 - loss: 0.0039 - precision: 0.9991 - recall: 1.0000\n",
      "Epoch 18: val_accuracy did not improve from 0.99621\n",
      "\u001b[1m66/66\u001b[0m \u001b[32m━━━━━━━━━━━━━━━━━━━━\u001b[0m\u001b[37m\u001b[0m \u001b[1m12s\u001b[0m 180ms/step - accuracy: 0.9995 - loss: 0.0039 - precision: 0.9991 - recall: 1.0000 - val_accuracy: 0.9886 - val_loss: 0.0423 - val_precision: 0.9924 - val_recall: 0.9848\n",
      "Epoch 19/30\n",
      "\u001b[1m66/66\u001b[0m \u001b[32m━━━━━━━━━━━━━━━━━━━━\u001b[0m\u001b[37m\u001b[0m \u001b[1m0s\u001b[0m 173ms/step - accuracy: 1.0000 - loss: 0.0013 - precision: 1.0000 - recall: 1.0000\n",
      "Epoch 19: val_accuracy did not improve from 0.99621\n",
      "\u001b[1m66/66\u001b[0m \u001b[32m━━━━━━━━━━━━━━━━━━━━\u001b[0m\u001b[37m\u001b[0m \u001b[1m12s\u001b[0m 183ms/step - accuracy: 1.0000 - loss: 0.0014 - precision: 1.0000 - recall: 1.0000 - val_accuracy: 0.9886 - val_loss: 0.0577 - val_precision: 0.9850 - val_recall: 0.9924\n",
      "Epoch 20/30\n",
      "\u001b[1m66/66\u001b[0m \u001b[32m━━━━━━━━━━━━━━━━━━━━\u001b[0m\u001b[37m\u001b[0m \u001b[1m0s\u001b[0m 164ms/step - accuracy: 0.9990 - loss: 0.0021 - precision: 0.9979 - recall: 1.0000\n",
      "Epoch 20: val_accuracy did not improve from 0.99621\n",
      "\u001b[1m66/66\u001b[0m \u001b[32m━━━━━━━━━━━━━━━━━━━━\u001b[0m\u001b[37m\u001b[0m \u001b[1m12s\u001b[0m 175ms/step - accuracy: 0.9990 - loss: 0.0021 - precision: 0.9980 - recall: 1.0000 - val_accuracy: 0.9924 - val_loss: 0.0345 - val_precision: 0.9924 - val_recall: 0.9924\n",
      "Epoch 21/30\n",
      "\u001b[1m66/66\u001b[0m \u001b[32m━━━━━━━━━━━━━━━━━━━━\u001b[0m\u001b[37m\u001b[0m \u001b[1m0s\u001b[0m 167ms/step - accuracy: 0.9986 - loss: 0.0025 - precision: 0.9972 - recall: 1.0000\n",
      "Epoch 21: val_accuracy did not improve from 0.99621\n",
      "\u001b[1m66/66\u001b[0m \u001b[32m━━━━━━━━━━━━━━━━━━━━\u001b[0m\u001b[37m\u001b[0m \u001b[1m12s\u001b[0m 177ms/step - accuracy: 0.9986 - loss: 0.0025 - precision: 0.9973 - recall: 1.0000 - val_accuracy: 0.9924 - val_loss: 0.0366 - val_precision: 0.9962 - val_recall: 0.9886\n",
      "Epoch 22/30\n",
      "\u001b[1m66/66\u001b[0m \u001b[32m━━━━━━━━━━━━━━━━━━━━\u001b[0m\u001b[37m\u001b[0m \u001b[1m0s\u001b[0m 165ms/step - accuracy: 0.9999 - loss: 0.0010 - precision: 0.9998 - recall: 0.9999    \n",
      "Epoch 22: val_accuracy did not improve from 0.99621\n",
      "\u001b[1m66/66\u001b[0m \u001b[32m━━━━━━━━━━━━━━━━━━━━\u001b[0m\u001b[37m\u001b[0m \u001b[1m12s\u001b[0m 176ms/step - accuracy: 0.9998 - loss: 0.0011 - precision: 0.9998 - recall: 0.9999 - val_accuracy: 0.9527 - val_loss: 0.2662 - val_precision: 0.9164 - val_recall: 0.9962\n",
      "Epoch 23/30\n",
      "\u001b[1m66/66\u001b[0m \u001b[32m━━━━━━━━━━━━━━━━━━━━\u001b[0m\u001b[37m\u001b[0m \u001b[1m0s\u001b[0m 162ms/step - accuracy: 0.9867 - loss: 0.0601 - precision: 0.9830 - recall: 0.9911\n",
      "Epoch 23: val_accuracy did not improve from 0.99621\n",
      "\u001b[1m66/66\u001b[0m \u001b[32m━━━━━━━━━━━━━━━━━━━━\u001b[0m\u001b[37m\u001b[0m \u001b[1m11s\u001b[0m 173ms/step - accuracy: 0.9868 - loss: 0.0598 - precision: 0.9832 - recall: 0.9911 - val_accuracy: 0.9905 - val_loss: 0.0244 - val_precision: 0.9924 - val_recall: 0.9886\n",
      "Epoch 24/30\n",
      "\u001b[1m66/66\u001b[0m \u001b[32m━━━━━━━━━━━━━━━━━━━━\u001b[0m\u001b[37m\u001b[0m \u001b[1m0s\u001b[0m 163ms/step - accuracy: 0.9999 - loss: 0.0017 - precision: 1.0000 - recall: 0.9998\n",
      "Epoch 24: val_accuracy did not improve from 0.99621\n",
      "\u001b[1m66/66\u001b[0m \u001b[32m━━━━━━━━━━━━━━━━━━━━\u001b[0m\u001b[37m\u001b[0m \u001b[1m11s\u001b[0m 174ms/step - accuracy: 0.9999 - loss: 0.0017 - precision: 1.0000 - recall: 0.9998 - val_accuracy: 0.9924 - val_loss: 0.0264 - val_precision: 0.9924 - val_recall: 0.9924\n",
      "Epoch 25/30\n",
      "\u001b[1m66/66\u001b[0m \u001b[32m━━━━━━━━━━━━━━━━━━━━\u001b[0m\u001b[37m\u001b[0m \u001b[1m0s\u001b[0m 172ms/step - accuracy: 0.9994 - loss: 0.0015 - precision: 1.0000 - recall: 0.9989\n",
      "Epoch 25: val_accuracy did not improve from 0.99621\n",
      "\u001b[1m66/66\u001b[0m \u001b[32m━━━━━━━━━━━━━━━━━━━━\u001b[0m\u001b[37m\u001b[0m \u001b[1m12s\u001b[0m 183ms/step - accuracy: 0.9994 - loss: 0.0015 - precision: 1.0000 - recall: 0.9988 - val_accuracy: 0.9905 - val_loss: 0.0332 - val_precision: 0.9887 - val_recall: 0.9924\n",
      "Epoch 26/30\n",
      "\u001b[1m66/66\u001b[0m \u001b[32m━━━━━━━━━━━━━━━━━━━━\u001b[0m\u001b[37m\u001b[0m \u001b[1m0s\u001b[0m 173ms/step - accuracy: 1.0000 - loss: 0.0023 - precision: 1.0000 - recall: 1.0000\n",
      "Epoch 26: val_accuracy did not improve from 0.99621\n",
      "\u001b[1m66/66\u001b[0m \u001b[32m━━━━━━━━━━━━━━━━━━━━\u001b[0m\u001b[37m\u001b[0m \u001b[1m12s\u001b[0m 184ms/step - accuracy: 1.0000 - loss: 0.0023 - precision: 1.0000 - recall: 1.0000 - val_accuracy: 0.9905 - val_loss: 0.0293 - val_precision: 0.9924 - val_recall: 0.9886\n",
      "Epoch 27/30\n",
      "\u001b[1m66/66\u001b[0m \u001b[32m━━━━━━━━━━━━━━━━━━━━\u001b[0m\u001b[37m\u001b[0m \u001b[1m0s\u001b[0m 165ms/step - accuracy: 1.0000 - loss: 5.1828e-04 - precision: 1.0000 - recall: 1.0000\n",
      "Epoch 27: val_accuracy did not improve from 0.99621\n",
      "\u001b[1m66/66\u001b[0m \u001b[32m━━━━━━━━━━━━━━━━━━━━\u001b[0m\u001b[37m\u001b[0m \u001b[1m12s\u001b[0m 179ms/step - accuracy: 1.0000 - loss: 5.1951e-04 - precision: 1.0000 - recall: 1.0000 - val_accuracy: 0.9924 - val_loss: 0.0252 - val_precision: 0.9924 - val_recall: 0.9924\n",
      "Epoch 28/30\n",
      "\u001b[1m66/66\u001b[0m \u001b[32m━━━━━━━━━━━━━━━━━━━━\u001b[0m\u001b[37m\u001b[0m \u001b[1m0s\u001b[0m 189ms/step - accuracy: 0.9994 - loss: 0.0018 - precision: 0.9995 - recall: 0.9993\n",
      "Epoch 28: val_accuracy did not improve from 0.99621\n",
      "\u001b[1m66/66\u001b[0m \u001b[32m━━━━━━━━━━━━━━━━━━━━\u001b[0m\u001b[37m\u001b[0m \u001b[1m13s\u001b[0m 201ms/step - accuracy: 0.9994 - loss: 0.0019 - precision: 0.9995 - recall: 0.9993 - val_accuracy: 0.9943 - val_loss: 0.0328 - val_precision: 1.0000 - val_recall: 0.9886\n",
      "Epoch 29/30\n",
      "\u001b[1m66/66\u001b[0m \u001b[32m━━━━━━━━━━━━━━━━━━━━\u001b[0m\u001b[37m\u001b[0m \u001b[1m0s\u001b[0m 178ms/step - accuracy: 1.0000 - loss: 5.3291e-04 - precision: 1.0000 - recall: 1.0000\n",
      "Epoch 29: val_accuracy did not improve from 0.99621\n",
      "\u001b[1m66/66\u001b[0m \u001b[32m━━━━━━━━━━━━━━━━━━━━\u001b[0m\u001b[37m\u001b[0m \u001b[1m13s\u001b[0m 190ms/step - accuracy: 1.0000 - loss: 5.3169e-04 - precision: 1.0000 - recall: 1.0000 - val_accuracy: 0.9943 - val_loss: 0.0342 - val_precision: 1.0000 - val_recall: 0.9886\n",
      "Epoch 30/30\n",
      "\u001b[1m66/66\u001b[0m \u001b[32m━━━━━━━━━━━━━━━━━━━━\u001b[0m\u001b[37m\u001b[0m \u001b[1m0s\u001b[0m 187ms/step - accuracy: 1.0000 - loss: 2.2922e-04 - precision: 1.0000 - recall: 1.0000\n",
      "Epoch 30: val_accuracy did not improve from 0.99621\n",
      "\u001b[1m66/66\u001b[0m \u001b[32m━━━━━━━━━━━━━━━━━━━━\u001b[0m\u001b[37m\u001b[0m \u001b[1m13s\u001b[0m 201ms/step - accuracy: 1.0000 - loss: 2.2938e-04 - precision: 1.0000 - recall: 1.0000 - val_accuracy: 0.9905 - val_loss: 0.0341 - val_precision: 0.9924 - val_recall: 0.9886\n"
     ]
    }
   ],
   "source": [
    "history = model.fit(\n",
    "    x_train, y_train,\n",
    "    validation_data=(x_val, y_val),\n",
    "    epochs=30,\n",
    "    batch_size=32,\n",
    "    verbose=1,\n",
    "    callbacks=[checkpoint]\n",
    ")"
   ]
  },
  {
   "cell_type": "code",
   "execution_count": null,
   "id": "5ea7f77e-8764-4d57-abc3-c67119013637",
   "metadata": {},
   "outputs": [],
   "source": []
  }
 ],
 "metadata": {
  "kernelspec": {
   "display_name": "Python 3 (ipykernel)",
   "language": "python",
   "name": "python3"
  },
  "language_info": {
   "codemirror_mode": {
    "name": "ipython",
    "version": 3
   },
   "file_extension": ".py",
   "mimetype": "text/x-python",
   "name": "python",
   "nbconvert_exporter": "python",
   "pygments_lexer": "ipython3",
   "version": "3.9.6"
  }
 },
 "nbformat": 4,
 "nbformat_minor": 5
}
